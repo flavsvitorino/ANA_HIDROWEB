{
 "cells": [
  {
   "cell_type": "code",
   "execution_count": null,
   "id": "d686986c",
   "metadata": {},
   "outputs": [],
   "source": [
    "import pandas as pd\n",
    "import io\n",
    "\n",
    "# Para fins de demonstração, vou simular o conteúdo do arquivo\n",
    "# como se estivesse lendo-o diretamente.\n",
    "\n",
    "file_path = \"_Vazoes.csv\"\n",
    "\n",
    "\n",
    "# Passo 1: Encontrar o número da linha do cabeçalho dinamicamente\n",
    "# Usar a codificação 'latin-1' para ler o arquivo corretamente\n",
    "skip_rows = 0\n",
    "with open(file_path, \"r\", encoding=\"latin-1\") as f:\n",
    "    for i, line in enumerate(f):\n",
    "        if \"EstacaoCodigo\" in line:\n",
    "            skip_rows = i\n",
    "            break\n",
    "print(f\"O cabeçalho foi encontrado na linha {skip_rows+1}. O skiprows será {skip_rows}.\")\n",
    "\n",
    "\n",
    "# Passo 2: Ler o arquivo com o número de linhas a pular dinâmico\n",
    "# Usar a codificação 'latin-1' para ler o arquivo corretamente\n",
    "df = pd.read_csv(file_path, sep=\";\", skiprows=skip_rows, encoding=\"latin-1\" , decimal=',')\n",
    "\n",
    "\n"
   ]
  },
  {
   "cell_type": "code",
   "execution_count": null,
   "id": "1ce57b37",
   "metadata": {},
   "outputs": [],
   "source": [
    "# Passo 3: Limpeza Inicial e Identificação Dinâmica de Colunas\n",
    "df = df.iloc[:, :-1]\n",
    "df.columns = [col.strip() for col in df.columns]\n",
    "\n",
    "vazao_cols = [col for col in df.columns if col.startswith(\"Vazao\") and col[5:].isdigit()]\n",
    "id_vars = [col for col in df.columns if col not in vazao_cols]\n",
    "\n"
   ]
  },
  {
   "cell_type": "code",
   "execution_count": null,
   "id": "8643605c",
   "metadata": {},
   "outputs": [],
   "source": [
    "# Passo 4: Transformar a estrutura dos dados (melt)\n",
    "df_long = df.melt(\n",
    "    id_vars=id_vars,\n",
    "    value_vars=vazao_cols,\n",
    "    var_name=\"Dia_do_mes\",\n",
    "    value_name=\"Vazao_m3s\",\n",
    ")\n",
    "# # df_long.to_csv(\n",
    "#     '/media/usuario/DATA3/Downloads/doutorado/dados_tese/dados_vazao/46490000_Vazoes_vertical_3.csv', sep=\";\", decimal=\",\", index=False, encoding=\"latin-1\")"
   ]
  },
  {
   "cell_type": "code",
   "execution_count": null,
   "id": "82415f82",
   "metadata": {},
   "outputs": [],
   "source": [
    "# --- ADICIONEI ESTE COMANDO PARA DEBUG ---\n",
    "print(\"\\nDataFrame após a transformação, mas antes da remoção de NaNs:\")\n",
    "print(df_long.head(35)) # Mostra os primeiros 35 dias para uma amostra completa\n",
    "print(\"-\" * 50)\n",
    "# ------------------------------------------\n"
   ]
  },
  {
   "cell_type": "code",
   "execution_count": null,
   "id": "1434434d",
   "metadata": {},
   "outputs": [],
   "source": [
    "# Passo 5: Limpeza e Conversão de Dados\n",
    "df_long[\"Vazao_m3s\"] = df_long[\"Vazao_m3s\"].fillna(0.0)\n",
    "\n",
    "df_long[\"Dia_do_mes\"] = pd.to_numeric(\n",
    "    df_long[\"Dia_do_mes\"].astype(str).str.extract(\"(\\d+)\").iloc[:, 0], errors='coerce'\n",
    ").astype('Int64')\n",
    "\n",
    "# --- CORREÇÃO: Tratar datas inválidas de forma mais robusta ---\n",
    "df_long[\"Data\"] = pd.to_datetime(df_long[\"Data\"], format=\"%d/%m/%Y\")\n",
    "df_long[\"DataCompleta\"] = pd.to_datetime(\n",
    "    df_long[\"Data\"].dt.strftime(\"%Y-%m-\") + df_long[\"Dia_do_mes\"].astype(str),\n",
    "    errors='coerce'\n",
    ")\n",
    "# Remover as linhas com datas inválidas (ex: 30 de fevereiro)\n",
    "df_long = df_long.dropna(subset=['DataCompleta'])\n"
   ]
  },
  {
   "cell_type": "code",
   "execution_count": null,
   "id": "7b68c457",
   "metadata": {},
   "outputs": [],
   "source": [
    "# Passo 6: Organizar as colunas finais\n",
    "df_final = df_long[\n",
    "    [\n",
    "        \"EstacaoCodigo\",\n",
    "        \"DataCompleta\",\n",
    "        \"Vazao_m3s\",\n",
    "        \n",
    "    ]\n",
    "].rename(columns={\"DataCompleta\": \"Data\", \"Vazao_m3s\": \"Vazao (m3/s)\"})\n",
    "\n",
    "# --- SUGESTÃO: Ordenar por data de forma decrescente ---\n",
    "df_final = df_final.sort_values(by='Data', ascending=False).reset_index(drop=True)\n",
    "\n"
   ]
  },
  {
   "cell_type": "code",
   "execution_count": null,
   "id": "565a69fc",
   "metadata": {},
   "outputs": [],
   "source": [
    "# Passo 7: Exibir o DataFrame final e salvar o arquivo\n",
    "print(\"\\nResultado final (ordenado da data mais recente para a mais antiga):\")\n",
    "print(df_final.head())\n",
    "print(\"\\nInformações do DataFrame final:\")\n",
    "df_final.info()"
   ]
  },
  {
   "cell_type": "code",
   "execution_count": null,
   "id": "4d5f3a69",
   "metadata": {},
   "outputs": [],
   "source": [
    "\n",
    "\n",
    "# Passo 7: Salvar o DataFrame final em um novo arquivo CSV\n",
    "output_file_path = \"_Vazoes_vertical.csv\"\n",
    "df_final.to_csv(\n",
    "    output_file_path, sep=\";\", decimal=\",\", index=False, encoding=\"latin-1\"\n",
    ")\n",
    "print(f\"\\nDataFrame salvo com sucesso em '{output_file_path}'\")\n"
   ]
  }
 ],
 "metadata": {
  "kernelspec": {
   "display_name": "Python 3",
   "language": "python",
   "name": "python3"
  },
  "language_info": {
   "codemirror_mode": {
    "name": "ipython",
    "version": 3
   },
   "file_extension": ".py",
   "mimetype": "text/x-python",
   "name": "python",
   "nbconvert_exporter": "python",
   "pygments_lexer": "ipython3",
   "version": "3.10.12"
  }
 },
 "nbformat": 4,
 "nbformat_minor": 5
}
